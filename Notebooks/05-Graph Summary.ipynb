{
 "cells": [
  {
   "cell_type": "markdown",
   "metadata": {},
   "source": [
    "# Graphs"
   ]
  },
  {
   "cell_type": "markdown",
   "metadata": {},
   "source": [
    "<img src=\"../Figures/barplot1ldc.png\" alt = \"test pic\" style = \"width:1182px; height=702px;\">\n",
    "barplot1ldc.png"
   ]
  },
  {
   "cell_type": "markdown",
   "metadata": {},
   "source": [
    "<img src=\"../Figures/barplot1clc.png\" alt = \"test pic\" style = \"width:1182px; height=702px;\">\n",
    "barplot1clc.png"
   ]
  },
  {
   "cell_type": "markdown",
   "metadata": {},
   "source": [
    "<img src=\"../Figures/barplot2ldc.png\" alt = \"test pic\" style = \"width:620px; height=702px;\">\n",
    "barplot2ldc.png"
   ]
  },
  {
   "cell_type": "markdown",
   "metadata": {},
   "source": [
    "<img src=\"../Figures/barplot2clc.png\" alt = \"test pic\" style = \"width:620px; height=702px;\">\n",
    "barplot2clc.png"
   ]
  },
  {
   "cell_type": "markdown",
   "metadata": {},
   "source": [
    "<img src=\"../Figures/barplot3highlow.png\" alt = \"test pic\" style = \"width:720px; height=702px;\">\n",
    "barplot3highlow.png"
   ]
  },
  {
   "cell_type": "markdown",
   "metadata": {},
   "source": [
    "<img src=\"../Figures/barplotgrowth3.png\" alt = \"test pic\" style = \"width:720px; height=702px;\">\n",
    "barplotgrowth3.png "
   ]
  },
  {
   "cell_type": "code",
   "execution_count": null,
   "metadata": {},
   "outputs": [],
   "source": []
  }
 ],
 "metadata": {
  "kernelspec": {
   "display_name": "Python 3",
   "language": "python",
   "name": "python3"
  },
  "language_info": {
   "codemirror_mode": {
    "name": "ipython",
    "version": 3
   },
   "file_extension": ".py",
   "mimetype": "text/x-python",
   "name": "python",
   "nbconvert_exporter": "python",
   "pygments_lexer": "ipython3",
   "version": "3.7.1"
  }
 },
 "nbformat": 4,
 "nbformat_minor": 2
}
