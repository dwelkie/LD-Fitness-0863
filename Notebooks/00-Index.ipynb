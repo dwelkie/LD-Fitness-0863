{
 "cells": [
  {
   "cell_type": "markdown",
   "metadata": {},
   "source": [
    "# Analysis of Head-to-Head LDC Fitness Competitions\n",
    "### This notebook contains the analysis of the raw data Belinda obtained during her time in the lab as a McNair Scholar in 2018.  Single mutant knock out strains were in Synechococcus 7942 and performed classic head-to head fitness competition experiments\n",
    "Prepared by David Welkie \n",
    "March 8, 2019\n",
    "UCSD\n",
    "## Table of Contents\n",
    "\n",
    "### 1. Initial Experiment on different strains against WT selected based on RB-TnSeq DataSet:     <a href=01-Initial-mutant-wt.ipynb> 01-Initial-mutant-wt </a>\n",
    "* These consist of the mutants against WT-spsm:\n",
    "  * synpcc7942_0863 hypothetical (1.5)\n",
    "  * synpcc7942_0644 cikA (1.4)\n",
    "  * synpcc7942_2047 psaB (1.4)\n",
    "  * synpcc7942_2453 pilM (1.7)\n",
    "  * AMC1936 - kaiABC \n",
    "  * WT-km\n",
    "\n",
    "### 2. Initial Experiment on mutant strains against mutant strains:     <a href=02-Initial-non-wt.ipynb> 02-Initial-non-wt </a>\n",
    "* These consist of the mutants against WT-spsm:\n",
    "  * AMC1936 - kaiABC VS synpcc7942_0644 cikA (1.4)\n",
    "  * synpcc7942_0644 cikA (1.4) VS synpcc7942_2453 pilM (1.7)\n",
    "  \n",
    "### 3. Further characterzation of *synpcc7942_0863* fitness against WT:     <a href=03-Strain0863-highl-lowl.ipynb> 03-Strain0863-highl-lowl </a>\n",
    "* This experiment adjusted the experimental design to switch from using 24 well plates to full sized petri plates to characterize the fitness relationships against WT in the strain synpcc7942_0863.\n",
    "* In addition we tested if light intensity affected fitness.\n",
    "\n",
    "### 4. Growth analysis of Synocc7942_0863 and WT:     <a href=04-Strain0863-growth.ipynb> 04-Strain0863-growth </a>\n",
    "* Measured growth of individual strain synpcc7942_0863 and WT in LDC to determine if fitness effect is due to increased growth rate\n",
    "\n",
    "### 5. Graphical Summary:     <a href=\"05-Graph Summary.ipynb\"> 05-Graph Summary </a>\n",
    "\n"
   ]
  },
  {
   "cell_type": "code",
   "execution_count": null,
   "metadata": {},
   "outputs": [],
   "source": []
  }
 ],
 "metadata": {
  "kernelspec": {
   "display_name": "Python 3",
   "language": "python",
   "name": "python3"
  },
  "language_info": {
   "codemirror_mode": {
    "name": "ipython",
    "version": 3
   },
   "file_extension": ".py",
   "mimetype": "text/x-python",
   "name": "python",
   "nbconvert_exporter": "python",
   "pygments_lexer": "ipython3",
   "version": "3.7.1"
  }
 },
 "nbformat": 4,
 "nbformat_minor": 2
}
