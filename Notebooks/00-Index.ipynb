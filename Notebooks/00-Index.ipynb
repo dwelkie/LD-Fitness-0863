{
 "cells": [
  {
   "cell_type": "markdown",
   "metadata": {},
   "source": [
    "# Analysis of Head-to-Head LDC Fitness Competitions\n",
    "### This notebook contains the analysis of the raw data Belinda obtained during her time in the lab as a McNair Scholar in 2018.  Single mutant knock out strains were in Synechococcus 7942 and performed classic head-to head fitness competition experiments\n",
    "Prepared by David Welkie \n",
    "March 8, 2019\n",
    "UCSD\n",
    "## Table of Contents\n",
    "\n",
    "### 1. Initial Experiment on different strains against WT selected based on RB-TnSeq DataSet:     <a href=01-Initial-mutant-wt.ipynb> 01-Initial-mutant-wt </a>\n",
    "* These consist of the mutants against WT-spsm:\n",
    "  * synpcc7942_0863 hypothetical (1.5)\n",
    "  * synpcc7942_0644 cikA (1.4)\n",
    "  * synpcc7942_2047 psaB (1.4)\n",
    "  * synpcc7942_2453 pilM (1.7)\n",
    "  * AMC1936 - kaiABC \n",
    "  * WT-km\n",
    "\n",
    "### 2. Initial Experiment on mutant strains against mutant strains:     <a href=02-Initial-non-wt.ipynb> 02-Initial-non-wt </a>\n",
    "* These consist of the mutants against WT-spsm:\n",
    "  * AMC1936 - kaiABC VS synpcc7942_0644 cikA (1.4)\n",
    "  * synpcc7942_0644 cikA (1.4) VS synpcc7942_2453 pilM (1.7)\n",
    "  \n",
    "### 3. Further characterzation of *synpcc7942_0863* fitness against WT:     <a href=03-Strain0863-highl-lowl.ipynb> 03-Strain0863-highl-lowl </a>\n",
    "* This experiment adjusted the experimental design to switch from using 24 well plates to full sized petri plates to characterize the fitness relationships against WT in the strain synpcc7942_0863.\n",
    "* In addition we tested if light intensity affected fitness.\n",
    "\n",
    "### 4. Growth analysis of Synocc7942_0863 and WT:     <a href=04-Strain0863-growth.ipynb> 04-Strain0863-growth </a>\n",
    "* Measured growth of individual strain synpcc7942_0863 and WT in LDC to determine if fitness effect is due to increased growth rate\n",
    "\n",
    "### 5. Graphical Summary:     <a href=\"05-Graph Summary.ipynb\"> 05-Graph Summary </a>\n",
    "\n"
   ]
  },
  {
   "cell_type": "markdown",
   "metadata": {},
   "source": [
    "## RUN THIS LINE FIRST IS THIS IF YOUR FIRST TIME RUNNING THESE NOTEBOOKS"
   ]
  },
  {
   "cell_type": "code",
   "execution_count": 2,
   "metadata": {},
   "outputs": [
    {
     "name": "stdout",
     "output_type": "stream",
     "text": [
      "Collecting git+https://github.com/dwelkie/statannot.git\n",
      "  Cloning https://github.com/dwelkie/statannot.git to /private/var/folders/q4/yp3m0vy157n6scn_g36gy31h0000gn/T/pip-req-build-0n0plj21\n",
      "Requirement already satisfied (use --upgrade to upgrade): statannot==0.1.0 from git+https://github.com/dwelkie/statannot.git in /Users/davidwelkie/anaconda3/envs/LD-Fitness-0863/lib/python3.7/site-packages/statannot-0.1.0-py3.7.egg\n",
      "Requirement already satisfied: numpy in /Users/davidwelkie/anaconda3/envs/LD-Fitness-0863/lib/python3.7/site-packages (from statannot==0.1.0) (1.16.2)\n",
      "Requirement already satisfied: seaborn in /Users/davidwelkie/anaconda3/envs/LD-Fitness-0863/lib/python3.7/site-packages (from statannot==0.1.0) (0.9.0)\n",
      "Requirement already satisfied: matplotlib in /Users/davidwelkie/anaconda3/envs/LD-Fitness-0863/lib/python3.7/site-packages (from statannot==0.1.0) (3.0.3)\n",
      "Requirement already satisfied: pandas in /Users/davidwelkie/anaconda3/envs/LD-Fitness-0863/lib/python3.7/site-packages (from statannot==0.1.0) (0.24.1)\n",
      "Requirement already satisfied: scipy in /Users/davidwelkie/anaconda3/envs/LD-Fitness-0863/lib/python3.7/site-packages (from statannot==0.1.0) (1.2.1)\n",
      "Requirement already satisfied: cycler>=0.10 in /Users/davidwelkie/anaconda3/envs/LD-Fitness-0863/lib/python3.7/site-packages (from matplotlib->statannot==0.1.0) (0.10.0)\n",
      "Requirement already satisfied: kiwisolver>=1.0.1 in /Users/davidwelkie/anaconda3/envs/LD-Fitness-0863/lib/python3.7/site-packages (from matplotlib->statannot==0.1.0) (1.0.1)\n",
      "Requirement already satisfied: pyparsing!=2.0.4,!=2.1.2,!=2.1.6,>=2.0.1 in /Users/davidwelkie/anaconda3/envs/LD-Fitness-0863/lib/python3.7/site-packages (from matplotlib->statannot==0.1.0) (2.3.1)\n",
      "Requirement already satisfied: python-dateutil>=2.1 in /Users/davidwelkie/anaconda3/envs/LD-Fitness-0863/lib/python3.7/site-packages (from matplotlib->statannot==0.1.0) (2.8.0)\n",
      "Requirement already satisfied: pytz>=2011k in /Users/davidwelkie/anaconda3/envs/LD-Fitness-0863/lib/python3.7/site-packages (from pandas->statannot==0.1.0) (2018.9)\n",
      "Requirement already satisfied: six in /Users/davidwelkie/anaconda3/envs/LD-Fitness-0863/lib/python3.7/site-packages (from cycler>=0.10->matplotlib->statannot==0.1.0) (1.12.0)\n",
      "Requirement already satisfied: setuptools in /Users/davidwelkie/anaconda3/envs/LD-Fitness-0863/lib/python3.7/site-packages (from kiwisolver>=1.0.1->matplotlib->statannot==0.1.0) (40.8.0)\n",
      "Building wheels for collected packages: statannot\n",
      "  Building wheel for statannot (setup.py) ... \u001b[?25ldone\n",
      "\u001b[?25h  Stored in directory: /private/var/folders/q4/yp3m0vy157n6scn_g36gy31h0000gn/T/pip-ephem-wheel-cache-ayuwxo3d/wheels/e0/bf/89/7fbf7d4a56614234345af61348de2ea023bc63b1309c671ebc\n",
      "Successfully built statannot\n"
     ]
    }
   ],
   "source": [
    "!pip install git+https://github.com/dwelkie/statannot.git"
   ]
  },
  {
   "cell_type": "code",
   "execution_count": null,
   "metadata": {},
   "outputs": [],
   "source": []
  }
 ],
 "metadata": {
  "kernelspec": {
   "display_name": "Python 3",
   "language": "python",
   "name": "python3"
  },
  "language_info": {
   "codemirror_mode": {
    "name": "ipython",
    "version": 3
   },
   "file_extension": ".py",
   "mimetype": "text/x-python",
   "name": "python",
   "nbconvert_exporter": "python",
   "pygments_lexer": "ipython3",
   "version": "3.7.1"
  }
 },
 "nbformat": 4,
 "nbformat_minor": 2
}
