{
 "cells": [
  {
   "cell_type": "markdown",
   "metadata": {},
   "source": [
    "# 03- Analysis of Head-to-Head LDC Fitness Competitions\n",
    "##  Follow up experiments performed on the strain 7942_0863\n",
    "\n",
    "Click here to go back to the <a href=\"0-Index.ipynb\"> \"Table of Contents\" </a>"
   ]
  },
  {
   "cell_type": "markdown",
   "metadata": {},
   "source": [
    "So, we decided to focus on the most promissing strain synpcc7942_0863 and reperform the high light (150uE) experiment again but instrad of plating on to 24 well plates with 20 ul of serial dilutions, we would plate 100 ul onto a full petri plate.\n",
    "\n",
    "In addition, we wanted to test if there was a relationship between the light intensity of the LD cycle and the competition outcome so we also did the experiment identically except for using 12-12h LDC with 30 uE instead of 150 uE\n",
    "\n",
    "### Load Data"
   ]
  },
  {
   "cell_type": "code",
   "execution_count": 2,
   "metadata": {},
   "outputs": [],
   "source": [
    "# Importing intrinsic libraries:\n",
    "import pandas as pd\n",
    "import matplotlib.pyplot as plt\n",
    "import seaborn as sns\n",
    "from statannot import add_stat_annotation\n",
    "import os \n",
    "os.chdir(\"..\")"
   ]
  },
  {
   "cell_type": "code",
   "execution_count": 3,
   "metadata": {},
   "outputs": [
    {
     "data": {
      "text/html": [
       "<div>\n",
       "<style scoped>\n",
       "    .dataframe tbody tr th:only-of-type {\n",
       "        vertical-align: middle;\n",
       "    }\n",
       "\n",
       "    .dataframe tbody tr th {\n",
       "        vertical-align: top;\n",
       "    }\n",
       "\n",
       "    .dataframe thead th {\n",
       "        text-align: right;\n",
       "    }\n",
       "</style>\n",
       "<table border=\"1\" class=\"dataframe\">\n",
       "  <thead>\n",
       "    <tr style=\"text-align: right;\">\n",
       "      <th></th>\n",
       "      <th>strain</th>\n",
       "      <th>day</th>\n",
       "      <th>condition</th>\n",
       "      <th>percent-mutant</th>\n",
       "      <th>strain-condition</th>\n",
       "    </tr>\n",
       "  </thead>\n",
       "  <tbody>\n",
       "    <tr>\n",
       "      <th>0</th>\n",
       "      <td>_0863</td>\n",
       "      <td>day 0</td>\n",
       "      <td>LDC high light</td>\n",
       "      <td>0.473118</td>\n",
       "      <td>_0863 LDC high light</td>\n",
       "    </tr>\n",
       "    <tr>\n",
       "      <th>1</th>\n",
       "      <td>_0863</td>\n",
       "      <td>day 0</td>\n",
       "      <td>LDC high light</td>\n",
       "      <td>0.406780</td>\n",
       "      <td>_0863 LDC high light</td>\n",
       "    </tr>\n",
       "    <tr>\n",
       "      <th>2</th>\n",
       "      <td>_0863</td>\n",
       "      <td>day 0</td>\n",
       "      <td>LDC high light</td>\n",
       "      <td>0.495468</td>\n",
       "      <td>_0863 LDC high light</td>\n",
       "    </tr>\n",
       "    <tr>\n",
       "      <th>3</th>\n",
       "      <td>_0863</td>\n",
       "      <td>day 0</td>\n",
       "      <td>LDC high light</td>\n",
       "      <td>0.562738</td>\n",
       "      <td>_0863 LDC high light</td>\n",
       "    </tr>\n",
       "    <tr>\n",
       "      <th>4</th>\n",
       "      <td>_0863</td>\n",
       "      <td>day 2</td>\n",
       "      <td>LDC high light</td>\n",
       "      <td>0.588889</td>\n",
       "      <td>_0863 LDC high light</td>\n",
       "    </tr>\n",
       "  </tbody>\n",
       "</table>\n",
       "</div>"
      ],
      "text/plain": [
       "  strain    day       condition  percent-mutant      strain-condition\n",
       "0  _0863  day 0  LDC high light        0.473118  _0863 LDC high light\n",
       "1  _0863  day 0  LDC high light        0.406780  _0863 LDC high light\n",
       "2  _0863  day 0  LDC high light        0.495468  _0863 LDC high light\n",
       "3  _0863  day 0  LDC high light        0.562738  _0863 LDC high light\n",
       "4  _0863  day 2  LDC high light        0.588889  _0863 LDC high light"
      ]
     },
     "execution_count": 3,
     "metadata": {},
     "output_type": "execute_result"
    }
   ],
   "source": [
    "# Loading Pandas DataFrame:\n",
    "data3 = pd.read_csv(\"Datasets/_0863-wt_HL-LL.csv\")\n",
    "data3.head()"
   ]
  },
  {
   "cell_type": "code",
   "execution_count": 4,
   "metadata": {},
   "outputs": [],
   "source": [
    "# Lets subset the data into our CLC and LDC results\n",
    "data3_HL = data3[data3.condition == \"LDC high light\"]\n",
    "data3_LL = data3[data3.condition == \"LDC low light\"]\n",
    "data3_clc = data3[data3.condition == \"CLC\"]"
   ]
  },
  {
   "cell_type": "markdown",
   "metadata": {},
   "source": [
    "# First lets plot all three conditions on the same  graph: \n",
    "\n",
    "### Make the bar graph"
   ]
  },
  {
   "cell_type": "code",
   "execution_count": 5,
   "metadata": {
    "scrolled": false
   },
   "outputs": [
    {
     "name": "stdout",
     "output_type": "stream",
     "text": [
      "pvalue annotation legend:\n",
      "ns: 5.00e-02 < p <= 1.00e+00\n",
      "*: 1.00e-02 < p <= 5.00e-02\n",
      "**: 1.00e-03 < p <= 1.00e-02\n",
      "***: 1.00e-04 < p <= 1.00e-03\n",
      "****: p <= 1.00e-04\n",
      "\n",
      "_0863 LDC high light_day 0 v.s. _0863 LDC high light_day 2: t-test independent samples, P_val=3.628e-02 stat=-2.685e+00\n",
      "_0863 LDC high light_day 2 v.s. _0863 LDC high light_day 6: t-test independent samples, P_val=2.645e-03 stat=-4.924e+00\n",
      "_0863 LDC high light_day 0 v.s. _0863 LDC high light_day 6: t-test independent samples, P_val=3.747e-06 stat=-1.603e+01\n",
      "pvalue annotation legend:\n",
      "ns: 5.00e-02 < p <= 1.00e+00\n",
      "*: 1.00e-02 < p <= 5.00e-02\n",
      "**: 1.00e-03 < p <= 1.00e-02\n",
      "***: 1.00e-04 < p <= 1.00e-03\n",
      "****: p <= 1.00e-04\n",
      "\n",
      "_0863 LDC low light_day 0 v.s. _0863 LDC low light_day 2: t-test independent samples, P_val=1.075e-01 stat=-1.891e+00\n",
      "_0863 LDC low light_day 2 v.s. _0863 LDC low light_day 6: t-test independent samples, P_val=4.364e-01 stat=8.337e-01\n",
      "_0863 LDC low light_day 0 v.s. _0863 LDC low light_day 6: t-test independent samples, P_val=6.784e-01 stat=-4.356e-01\n",
      "pvalue annotation legend:\n",
      "ns: 5.00e-02 < p <= 1.00e+00\n",
      "*: 1.00e-02 < p <= 5.00e-02\n",
      "**: 1.00e-03 < p <= 1.00e-02\n",
      "***: 1.00e-04 < p <= 1.00e-03\n",
      "****: p <= 1.00e-04\n",
      "\n",
      "_0863 CLC_day 0 v.s. _0863 CLC_day 2: t-test independent samples, P_val=6.270e-03 stat=-3.212e+00\n",
      "_0863 CLC_day 2 v.s. _0863 CLC_day 6: t-test independent samples, P_val=2.167e-01 stat=-1.294e+00\n",
      "_0863 CLC_day 0 v.s. _0863 CLC_day 6: t-test independent samples, P_val=9.723e-05 stat=-5.379e+00\n"
     ]
    },
    {
     "data": {
      "image/png": "[encoded data removed]",
      "text/plain": [
       "<Figure size 720x360 with 1 Axes>"
      ]
     },
     "metadata": {
      "needs_background": "light"
     },
     "output_type": "display_data"
    }
   ],
   "source": [
    "# Set variables you want to plot\n",
    "plt.figure(figsize=(10,5))\n",
    "\n",
    "x = \"strain-condition\"\n",
    "y = \"percent-mutant\"\n",
    "order=[\"day 0\", \"day 2\", \"day 6\"]\n",
    "\n",
    "\n",
    "\n",
    "barplot3highlow = sns.barplot(data=data3, x=x, y=y, hue=\"day\", hue_order=order,\n",
    "                       palette=sns.color_palette(['seagreen', 'coral', 'royalblue']))\n",
    "\n",
    "swarmplot3 = sns.swarmplot(data=data3, x=x, y=y, hue='day' ,dodge=True, \n",
    "               palette=sns.color_palette(['black', 'black', 'black']), hue_order=order)\n",
    "\n",
    "handles, labels = swarmplot3.get_legend_handles_labels()\n",
    "barplot3highlow.legend(handles[3:], labels[3:], bbox_to_anchor=(1.05, 1), loc=2, borderaxespad=0., fontsize='x-large', title_fontsize='40')\n",
    "\n",
    "# control x and y limits\n",
    "barplot3highlow.set(ylim=(0, 1))\n",
    "swarmplot3.set(ylim=(0, 1))\n",
    "barplot3highlow.axes.set_title(\"\",fontsize=20)\n",
    "barplot3highlow.set_xlabel(\"Synpcc7942_0863 vs WT in different conditions\",fontsize=20)\n",
    "barplot3highlow.set_ylabel(\"Day\",fontsize=20)\n",
    "barplot3highlow.tick_params(labelsize=20)\n",
    "\n",
    "stat_lowlight = add_stat_annotation(barplot3highlow, data=data3, x=x, y=y, hue=\"day\",\n",
    "                    boxPairList=[((\"_0863 LDC high light\", \"day 0\"), (\"_0863 LDC high light\", \"day 2\")),\n",
    "                                 ((\"_0863 LDC high light\", \"day 2\"), (\"_0863 LDC high light\", \"day 6\")),\n",
    "                                 ((\"_0863 LDC high light\", \"day 0\"), (\"_0863 LDC high light\", \"day 6\"))],\n",
    "                    test='t-test_ind', textFormat='star', loc='outside', verbose=2, fontsize='x-large')\n",
    "\n",
    "stat_lowlight = add_stat_annotation(barplot3highlow, data=data3, x=x, y=y, hue=\"day\",\n",
    "                    boxPairList=[((\"_0863 LDC low light\", \"day 0\"), (\"_0863 LDC low light\", \"day 2\")),\n",
    "                                 ((\"_0863 LDC low light\", \"day 2\"), (\"_0863 LDC low light\", \"day 6\")),\n",
    "                                 ((\"_0863 LDC low light\", \"day 0\"), (\"_0863 LDC low light\", \"day 6\"))],\n",
    "                    test='t-test_ind', textFormat='star', loc='outside', verbose=2, fontsize='x-large')\n",
    "\n",
    "stat_lowlight = add_stat_annotation(barplot3highlow, data=data3, x=x, y=y, hue=\"day\",\n",
    "                    boxPairList=[((\"_0863 CLC\", \"day 0\"), (\"_0863 CLC\", \"day 2\")),\n",
    "                                 ((\"_0863 CLC\", \"day 2\"), (\"_0863 CLC\", \"day 6\")),\n",
    "                                 ((\"_0863 CLC\", \"day 0\"), (\"_0863 CLC\", \"day 6\"))],\n",
    "                    test='t-test_ind', textFormat='star', loc='outside', verbose=5, fontsize='x-large')\n",
    "\n",
    "\n"
   ]
  },
  {
   "cell_type": "markdown",
   "metadata": {},
   "source": [
    "## Click here to continue to <a href=\"04-Strain0863-growth.ipynb\"> \"Data on growth in LDC individually\" </a>\n",
    "\n",
    "### Or if you want to print the figures:"
   ]
  },
  {
   "cell_type": "code",
   "execution_count": 6,
   "metadata": {},
   "outputs": [],
   "source": [
    "barplot3highlow = barplot3highlow.get_figure()  \n",
    "barplot3highlow.savefig('Figures/barplot3highlow.png', dpi=400, bbox_inches=\"tight\")"
   ]
  }
 ],
 "metadata": {
  "kernelspec": {
   "display_name": "Python 3",
   "language": "python",
   "name": "python3"
  },
  "language_info": {
   "codemirror_mode": {
    "name": "ipython",
    "version": 3
   },
   "file_extension": ".py",
   "mimetype": "text/x-python",
   "name": "python",
   "nbconvert_exporter": "python",
   "pygments_lexer": "ipython3",
   "version": "3.7.1"
  }
 },
 "nbformat": 4,
 "nbformat_minor": 2
}
